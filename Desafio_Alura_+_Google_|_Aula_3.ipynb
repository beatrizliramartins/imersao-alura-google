{
  "nbformat": 4,
  "nbformat_minor": 0,
  "metadata": {
    "colab": {
      "provenance": [],
      "authorship_tag": "ABX9TyN8SK86w9nsh80jBVadpYuU",
      "include_colab_link": true
    },
    "kernelspec": {
      "name": "python3",
      "display_name": "Python 3"
    },
    "language_info": {
      "name": "python"
    }
  },
  "cells": [
    {
      "cell_type": "markdown",
      "metadata": {
        "id": "view-in-github",
        "colab_type": "text"
      },
      "source": [
        "<a href=\"https://colab.research.google.com/github/beatrizliramartins/imersao-alura-google/blob/main/Desafio_Alura_%2B_Google_%7C_Aula_3.ipynb\" target=\"_parent\"><img src=\"https://colab.research.google.com/assets/colab-badge.svg\" alt=\"Open In Colab\"/></a>"
      ]
    },
    {
      "cell_type": "code",
      "execution_count": 1,
      "metadata": {
        "colab": {
          "base_uri": "https://localhost:8080/",
          "height": 783
        },
        "id": "IgKOG2oYVRSN",
        "outputId": "7b2e87c2-9f41-47e5-831d-96e04da013f4"
      },
      "outputs": [
        {
          "output_type": "stream",
          "name": "stdout",
          "text": [
            "## Campanha de Alta Conversão para Barbearias: Fidelização e Indicações\n",
            "\n",
            "**Objetivo:** Aumentar a fidelização dos clientes e incentivá-los a indicar a barbearia para amigos e familiares.\n",
            "\n",
            "**Estratégia:** \n",
            "\n",
            "1. **Programa de Fidelidade:**\n",
            "    * **Crie um sistema de pontos:** Os clientes acumulam pontos a cada serviço realizado ou produto comprado, que podem ser trocados por descontos, brindes ou serviços gratuitos.\n",
            "    * **Níveis de fidelidade:** Implemente diferentes níveis de fidelidade (prata, ouro, platina) com benefícios exclusivos para cada nível, incentivando os clientes a usar os serviços da barbearia com mais frequência. \n",
            "    * **Aplicativo ou cartão fidelidade:** Facilite o acompanhamento dos pontos e benefícios através de um aplicativo ou cartão fidelidade. \n",
            "\n",
            "2. **Programa de Indicação:**\n",
            "    * **Recompense indicações:** Ofereça descontos ou brindes para clientes que indicarem novos clientes para a barbearia. \n",
            "    * **Crie um sistema de indicação fácil:** Facilite o processo de indicação através de um link exclusivo, código promocional ou formulário online. \n",
            "    * **Divulgue o programa:** Promova o programa de indicação nas redes sociais, no site da barbearia e através de email marketing.\n",
            "\n",
            "3. **Experiência do Cliente:**\n",
            "    * **Atendimento excepcional:** Treine sua equipe para oferecer um atendimento personalizado e de alta qualidade.\n",
            "    * **Ambiente agradável:** Invista na decoração e conforto da barbearia, criando um ambiente acolhedor e relaxante. \n",
            "    * **Serviços de qualidade:** Utilize produtos de qualidade e ofereça uma variedade de serviços para atender às necessidades de todos os clientes.\n",
            "\n",
            "4. **Comunicação:**\n",
            "    * **Email marketing:** Envie emails com promoções exclusivas, novidades e informações sobre o programa de fidelidade. \n",
            "    * **Redes sociais:** Mantenha uma presença ativa nas redes sociais, compartilhando conteúdo interessante, interagindo com os seguidores e divulgando o programa de indicação.\n",
            "    * **Whatsapp:** Utilize o Whatsapp para enviar lembretes de agendamento, promoções e novidades.\n",
            "\n",
            "**Ferramentas Úteis:**\n",
            "\n",
            "* **Plataformas de fidelidade:** FideliZi, Loopy Loyalty, LoyaltyLion.\n",
            "* **Plataformas de email marketing:** Mailchimp, Sendinblue, ActiveCampaign. \n",
            "* **Gerenciador de redes sociais:** Hootsuite, Buffer.\n",
            "\n",
            "**Benefícios:**\n",
            "\n",
            "* **Aumento da fidelização:** Clientes fidelizados tendem a gastar mais e retornar com mais frequência.\n",
            "* **Novos clientes:** O programa de indicação atrai novos clientes sem custos de aquisição.\n",
            "* **Maior engajamento:** Os programas de fidelidade e indicação promovem o engajamento dos clientes com a barbearia.\n",
            "* **Melhoria da reputação:** Clientes satisfeitos tendem a recomendar a barbearia para amigos e familiares. \n",
            "\n",
            "**Lembre-se:** A chave para o sucesso dessas campanhas é oferecer uma experiência excepcional ao cliente e recompensá-lo por sua fidelidade e indicações. \n",
            "\n",
            "**Com essas estratégias, você poderá construir relacionamentos duradouros com seus clientes e impulsionar o crescimento do seu negócio.**\n",
            "\n"
          ]
        }
      ],
      "source": [
        "\"\"\"\n",
        "At the command line, only need to run once to install the package via pip:\n",
        "\n",
        "$ pip install google-generativeai\n",
        "\"\"\"\n",
        "\n",
        "import google.generativeai as genai\n",
        "\n",
        "genai.configure(api_key=\"\")\n",
        "\n",
        "# Set up the model\n",
        "generation_config = {\n",
        "  \"temperature\": 1,\n",
        "  \"top_p\": 0.95,\n",
        "  \"top_k\": 0,\n",
        "  \"max_output_tokens\": 8192,\n",
        "}\n",
        "\n",
        "safety_settings = [\n",
        "  {\n",
        "    \"category\": \"HARM_CATEGORY_HARASSMENT\",\n",
        "    \"threshold\": \"BLOCK_MEDIUM_AND_ABOVE\"\n",
        "  },\n",
        "  {\n",
        "    \"category\": \"HARM_CATEGORY_HATE_SPEECH\",\n",
        "    \"threshold\": \"BLOCK_MEDIUM_AND_ABOVE\"\n",
        "  },\n",
        "  {\n",
        "    \"category\": \"HARM_CATEGORY_SEXUALLY_EXPLICIT\",\n",
        "    \"threshold\": \"BLOCK_MEDIUM_AND_ABOVE\"\n",
        "  },\n",
        "  {\n",
        "    \"category\": \"HARM_CATEGORY_DANGEROUS_CONTENT\",\n",
        "    \"threshold\": \"BLOCK_MEDIUM_AND_ABOVE\"\n",
        "  },\n",
        "]\n",
        "\n",
        "system_instruction = \"Aja como um vendedor de Produtos para Barbearia \"\n",
        "\n",
        "model = genai.GenerativeModel(model_name=\"gemini-1.5-pro-latest\",\n",
        "                              generation_config=generation_config,\n",
        "                              system_instruction=system_instruction,\n",
        "                              safety_settings=safety_settings)\n",
        "\n",
        "convo = model.start_chat(history=[\n",
        "  {\n",
        "    \"role\": \"user\",\n",
        "    \"parts\": [\"Crie uma campanha de alta conversão para pessoas que não converteram a compra\"]\n",
        "  },\n",
        "  {\n",
        "    \"role\": \"model\",\n",
        "    \"parts\": [\"## Campanha de Alta Conversão para Carrinhos Abandonados: Barbearia\\n\\n**Objetivo:** Reativar o interesse de potenciais clientes que adicionaram produtos ao carrinho, mas não finalizaram a compra. \\n\\n**Estratégia:** \\n\\n1. **Segmentação:** \\n    * **Público:** Pessoas que adicionaram produtos ao carrinho nos últimos 30 dias, mas não finalizaram a compra.\\n    * **Canais:** Email marketing, anúncios de retargeting (Google Ads, Facebook Ads, etc.).\\n\\n2. **Mensagem:**\\n    * **Criar senso de urgência:** Oferecer um desconto por tempo limitado ou frete grátis para incentivar a finalização da compra.\\n    * **Esclarecer dúvidas:** Enfatizar a segurança da compra, política de troca/devolução e facilidade do processo de checkout.\\n    * **Destacar benefícios:**  Ressaltar a qualidade dos produtos, marcas renomadas e a experiência que o cliente terá com os itens. \\n    * **Personalização:** Utilizar o nome do cliente e os produtos que foram adicionados ao carrinho na mensagem. \\n\\n3. **Conteúdo:**\\n    * **Email Marketing:**\\n        * **Assunto:** Chamar a atenção com frases como \\\"Não deixe seus produtos escaparem!\\\", \\\"Seu carrinho está esperando por você!\\\" ou \\\"Finalize sua compra e ganhe [desconto/frete grátis]\\\".\\n        * **Conteúdo:** Incluir fotos dos produtos abandonados, destacar os benefícios e a oferta especial,  e inserir um CTA claro para finalizar a compra. \\n    * **Anúncios de Retargeting:**\\n        * **Imagens:** Utilizar fotos atraentes dos produtos abandonados.\\n        * **Textos:** Frases curtas e impactantes que reforçam a oferta e incentivam o clique.\\n        * **Segmentação:** Direcionar os anúncios para o público segmentado em diferentes plataformas. \\n\\n4. **Acompanhamento:**\\n    * **Monitorar as taxas de abertura, cliques e conversões da campanha.**\\n    * **Realizar testes A/B com diferentes assuntos, conteúdos e ofertas para otimizar os resultados.**\\n    * **Ajustar a segmentação e os canais utilizados conforme necessário.**\\n\\n\\n**Ferramentas Úteis:**\\n\\n* **Plataformas de email marketing:** Mailchimp, Sendinblue, ActiveCampaign.\\n* **Plataformas de anúncios:** Google Ads, Facebook Ads.\\n* **Ferramentas de análise:** Google Analytics.\\n\\n**Exemplos de Mensagens:**\\n\\n* **Assunto do email:** \\\"Seu carrinho está cheio de estilo! Finalize sua compra e ganhe 10% de desconto.\\\"\\n* **Texto do anúncio:** \\\"Ainda pensando naqueles produtos incríveis? Finalize sua compra agora e receba frete grátis!\\\"\\n\\n**Lembre-se:** A chave para uma campanha de alta conversão é oferecer o incentivo certo, no momento certo, para o público certo. \\n\\n**Com essa estratégia, você terá mais chances de converter aqueles carrinhos abandonados em vendas e fidelizar seus clientes.**\"]\n",
        "  },\n",
        "])\n",
        "\n",
        "convo.send_message(\"YOUR_USER_INPUT\")\n",
        "print(convo.last.text)"
      ]
    }
  ]
}